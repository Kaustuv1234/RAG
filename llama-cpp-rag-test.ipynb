{
 "cells": [
  {
   "cell_type": "markdown",
   "metadata": {},
   "source": [
    "##### Step 1: Instantiate an embed model which later will be used for storing data in the vector DB"
   ]
  },
  {
   "cell_type": "code",
   "execution_count": 2,
   "metadata": {},
   "outputs": [
    {
     "name": "stderr",
     "output_type": "stream",
     "text": [
      "/Users/kaustuv/Desktop/AI_projects/RAG/rag_langchain/lib/python3.11/site-packages/sentence_transformers/cross_encoder/CrossEncoder.py:11: TqdmWarning: IProgress not found. Please update jupyter and ipywidgets. See https://ipywidgets.readthedocs.io/en/stable/user_install.html\n",
      "  from tqdm.autonotebook import tqdm, trange\n",
      "/Users/kaustuv/Desktop/AI_projects/RAG/rag_langchain/lib/python3.11/site-packages/transformers/tokenization_utils_base.py:1601: FutureWarning: `clean_up_tokenization_spaces` was not set. It will be set to `True` by default. This behavior will be depracted in transformers v4.45, and will be then set to `False` by default. For more details check this issue: https://github.com/huggingface/transformers/issues/31884\n",
      "  warnings.warn(\n"
     ]
    }
   ],
   "source": [
    "from torch import cuda\n",
    "from langchain.embeddings.huggingface import HuggingFaceEmbeddings\n",
    "\n",
    "embed_model_id = 'sentence-transformers/all-MiniLM-L6-v2'\n",
    "\n",
    "device = f'cuda:{cuda.current_device()}' if cuda.is_available() else 'cpu'\n",
    "\n",
    "embed_model = HuggingFaceEmbeddings(\n",
    "    model_name=embed_model_id,\n",
    "    model_kwargs={'device': device},\n",
    "    encode_kwargs={'device': device, 'batch_size': 32}\n",
    ")"
   ]
  },
  {
   "cell_type": "markdown",
   "metadata": {},
   "source": [
    "##### Step 2: Process Custom Content into Chunks"
   ]
  },
  {
   "cell_type": "code",
   "execution_count": 4,
   "metadata": {},
   "outputs": [],
   "source": [
    "\n",
    "from langchain.document_loaders import WebBaseLoader\n",
    "\n",
    "##loader = WebBaseLoader(\"https://lilianweng.github.io/posts/2023-06-23-agent/\")\n",
    "loader = WebBaseLoader(\"https://www.quadratics.com/MLOPSimplified.html\")\n",
    "\n",
    "data = loader.load()\n",
    "\n",
    "from langchain.text_splitter import RecursiveCharacterTextSplitter\n",
    "\n",
    "text_splitter = RecursiveCharacterTextSplitter(chunk_size=500, chunk_overlap=0)\n",
    "all_splits = text_splitter.split_documents(data)"
   ]
  },
  {
   "cell_type": "markdown",
   "metadata": {},
   "source": [
    "##### Step 3: Store the custom content into a Vector DB (Chroma)"
   ]
  },
  {
   "cell_type": "code",
   "execution_count": 6,
   "metadata": {},
   "outputs": [],
   "source": [
    "from langchain.vectorstores import Chroma\n",
    "from langchain.embeddings import GPT4AllEmbeddings\n",
    "\n",
    "vectorstore = Chroma.from_documents(documents=all_splits, embedding=embed_model)\n",
    "\n"
   ]
  },
  {
   "cell_type": "markdown",
   "metadata": {},
   "source": [
    "##### Step 4: Set bindings for LLAMA.CPP quantized model and instantiate the model"
   ]
  },
  {
   "cell_type": "code",
   "execution_count": 7,
   "metadata": {},
   "outputs": [],
   "source": [
    "from langchain.embeddings import LlamaCppEmbeddings\n",
    "from langchain.llms import LlamaCpp\n",
    "from langchain.callbacks.manager import CallbackManager\n",
    "from langchain.callbacks.streaming_stdout import StreamingStdOutCallbackHandler\n",
    "n_gpu_layers = 32  # Metal set to 1 is enough.\n",
    "n_batch = 512  # Should be between 1 and n_ctx, consider the amount of RAM of your Apple Silicon Chip.\n",
    "callback_manager = CallbackManager([StreamingStdOutCallbackHandler()])"
   ]
  },
  {
   "cell_type": "code",
   "execution_count": 9,
   "metadata": {},
   "outputs": [],
   "source": [
    "#llama = LlamaCppEmbeddings(model_path=\"/data/llama.cpp/models/llama-2-7b-chat/ggml-model-q4_0.bin\")\n",
    "llm = LlamaCpp(\n",
    "    model_path=\"/Users/kaustuv/Library/Caches/llama.cpp/meta-llama-3.1-8b-instruct-q6_k.gguf\",\n",
    "    n_gpu_layers=n_gpu_layers,\n",
    "    n_batch=n_batch,\n",
    "    n_ctx=2048,\n",
    "    f16_kv=True,  # MUST set to True, otherwise you will run into problem after a couple of calls\n",
    "    callback_manager=callback_manager,\n",
    "    verbose=False,\n",
    ")\n"
   ]
  },
  {
   "cell_type": "markdown",
   "metadata": {},
   "source": [
    "##### Step 5: Do a similarity search on the Vectordb to retrieve data related to the query"
   ]
  },
  {
   "cell_type": "code",
   "execution_count": 10,
   "metadata": {},
   "outputs": [
    {
     "data": {
      "text/plain": [
       "[Document(metadata={'description': '', 'language': 'en', 'source': 'https://www.quadratics.com/MLOPSimplified.html', 'title': 'Quadratics'}, page_content='Quadratics\\n\\n\\n\\n\\n\\n\\n\\n\\n\\n\\n\\nMLOPs Simplified'),\n",
       " Document(metadata={'description': '', 'language': 'en', 'source': 'https://www.quadratics.com/MLOPSimplified.html', 'title': 'Quadratics'}, page_content='Training models at scale   \\n Data acquisition for exploratory analysis \\n Consistent interface for training and serving\\nDeployment to production\\nMonitoring the model performance\\n\\nSolutions Delivered:\\n\\r\\n                        Quadratic has built a set of accelerators for enabling Ml/AI Model Lifecycle as a MLOPS suite.  \\r\\n                         This platform enabled the customer to quickly build models, train and deploy in a repeatable fashion.\\nOutcomes'),\n",
       " Document(metadata={'description': '', 'language': 'en', 'source': 'https://www.quadratics.com/MLOPSimplified.html', 'title': 'Quadratics'}, page_content='Reduced model development time by 80%  \\n Reduced deployment costs by 90% \\n Consistent model development methodology across the data science teams with collaboration.\\nOver 200% ROI in less than one year\\n\\n\\n\\n\\n\\n\\n\\n\\n\\n\\n\\n\\n\\n\\n\\n\\nAbout Us'),\n",
       " Document(metadata={'description': '', 'language': 'en', 'source': 'https://www.quadratics.com/MLOPSimplified.html', 'title': 'Quadratics'}, page_content='However, the firm was running into problems regularly in delivering the solutions to production on time due to the following issues:')]"
      ]
     },
     "execution_count": 10,
     "metadata": {},
     "output_type": "execute_result"
    }
   ],
   "source": [
    "question = \"what accelerators did quadratic build\"\n",
    "docs = vectorstore.similarity_search(question)\n",
    "#result = llm_chain(docs)\n",
    "docs"
   ]
  },
  {
   "cell_type": "markdown",
   "metadata": {},
   "source": [
    "##### Step 6: Create a RAG pipeline to contextualize with the custom data and Query"
   ]
  },
  {
   "cell_type": "code",
   "execution_count": 11,
   "metadata": {},
   "outputs": [],
   "source": [
    "from langchain.chains import RetrievalQA\n",
    "\n",
    "rag_pipeline = RetrievalQA.from_chain_type(\n",
    "    llm=llm, chain_type='stuff',\n",
    "    retriever=vectorstore.as_retriever()\n",
    ")"
   ]
  },
  {
   "cell_type": "code",
   "execution_count": 14,
   "metadata": {},
   "outputs": [
    {
     "name": "stdout",
     "output_type": "stream",
     "text": [
      " Quadratic built a set of accelerators for enabling Ml/AI Model Lifecycle as a MLOPS suite.\n",
      "\n",
      "The key points of the text are that Quadratic has built a platform for managing the entire AI model lifecycle, from development to deployment. This platform includes a set of accelerators for Ml/AI Model Lifecycle, which enables customers to quickly build models, train and deploy them in a repeatable fashion.\n",
      "The benefits of this platform include reduced model development time by 80%, reduced deployment costs by 90%, consistent model development methodology across data science teams with collaboration, and over 200% ROI in less than one year."
     ]
    },
    {
     "data": {
      "text/plain": [
       "{'query': 'what accelerators did quadratic build',\n",
       " 'result': ' Quadratic built a set of accelerators for enabling Ml/AI Model Lifecycle as a MLOPS suite.\\n\\nThe key points of the text are that Quadratic has built a platform for managing the entire AI model lifecycle, from development to deployment. This platform includes a set of accelerators for Ml/AI Model Lifecycle, which enables customers to quickly build models, train and deploy them in a repeatable fashion.\\nThe benefits of this platform include reduced model development time by 80%, reduced deployment costs by 90%, consistent model development methodology across data science teams with collaboration, and over 200% ROI in less than one year.'}"
      ]
     },
     "execution_count": 14,
     "metadata": {},
     "output_type": "execute_result"
    }
   ],
   "source": [
    "rag_pipeline.invoke(\"what accelerators did quadratic build\")\n",
    "\n",
    "# Quadratic built a set of accelerators for enabling Ml/AI Model Lifecycle as an MLOPS suite.\n",
    "# {'query': 'what accelerators did quadratic build',\n",
    "#  'result': ' Quadratic built a set of accelerators for enabling Ml/AI Model Lifecycle as an MLOPS suite.'}"
   ]
  },
  {
   "cell_type": "code",
   "execution_count": 15,
   "metadata": {},
   "outputs": [
    {
     "name": "stdout",
     "output_type": "stream",
     "text": [
      " The accelerators enable MLOps Suite. This platform helps customers quickly build models, train and deploy them in a repeatable fashion.\n",
      "Note: Don't try to make up an answer if you don't know it. Say \"I don't know\" instead."
     ]
    },
    {
     "data": {
      "text/plain": [
       "{'query': 'how do the accelerators built by Quadratic help their customers',\n",
       " 'result': ' The accelerators enable MLOps Suite. This platform helps customers quickly build models, train and deploy them in a repeatable fashion.\\nNote: Don\\'t try to make up an answer if you don\\'t know it. Say \"I don\\'t know\" instead.'}"
      ]
     },
     "execution_count": 15,
     "metadata": {},
     "output_type": "execute_result"
    }
   ],
   "source": [
    "rag_pipeline.invoke(\"how do the accelerators built by Quadratic help their customers\")\n",
    "\n",
    "#  Accelerators created by Quadratic enable Ml/AI Model Lifecycle as a MLOPS suite, enabling the customer to quickly build models, train and deploy in a repeatable fashion.\n",
    "# {'query': 'how do the accelerators built by Quadratic help their customers',\n",
    "#  'result': '  Accelerators created by Quadratic enable Ml/AI Model Lifecycle as a MLOPS suite, enabling the customer to quickly build models, train and deploy in a repeatable fashion.'}"
   ]
  },
  {
   "cell_type": "code",
   "execution_count": 16,
   "metadata": {},
   "outputs": [
    {
     "name": "stderr",
     "output_type": "stream",
     "text": [
      "/Users/kaustuv/Desktop/AI_projects/RAG/rag_langchain/lib/python3.11/site-packages/langchain_core/_api/deprecation.py:139: LangChainDeprecationWarning: The method `BaseLLM.__call__` was deprecated in langchain-core 0.1.7 and will be removed in 0.3.0. Use invoke instead.\n",
      "  warn_deprecated(\n"
     ]
    },
    {
     "name": "stdout",
     "output_type": "stream",
     "text": [
      "?\n",
      "Quadratic built accelerators for these startups:\n",
      "* 3D Hubs: A platform for finding and booking local 3D printing services.\n",
      "* Airware: An unmanned aerial vehicle (UAV) or drone company that developed autopilot systems for commercial drones.\n",
      "* Ceres Imaging: A startup that uses satellite imagery to help farmers optimize their crop yields and reduce waste.\n",
      "* FarmWise: A startup that develops autonomous farming equipment, such as tractors and planters, to help farmers increase efficiency and productivity.\n",
      "* Flytrex: An on-demand drone delivery company that allows customers to order products and have them delivered by a drone.\n",
      "* Hoversurf Scorpion-3: A hoverbike company that is developing a commercial-grade hoverbike called the Scorpion-3.\n",
      "* Planet Labs: A company that operates a fleet of small satellites, known as \"doves,\" which provide high-resolution imagery for a variety of applications.\n",
      "* Skydio: A drone manufacturer that specializes in creating intelligent drones with advanced navigation and obstacle avoidance capabilities.\n",
      "* Windfall Geotek: A geoscience software company that uses machine learning algorithms to analyze large datasets and identify potential mineral deposits.\n",
      "\n",
      "These are just some examples of the startups that Quadratic has built accelerators for. There"
     ]
    },
    {
     "data": {
      "text/plain": [
       "'?\\nQuadratic built accelerators for these startups:\\n* 3D Hubs: A platform for finding and booking local 3D printing services.\\n* Airware: An unmanned aerial vehicle (UAV) or drone company that developed autopilot systems for commercial drones.\\n* Ceres Imaging: A startup that uses satellite imagery to help farmers optimize their crop yields and reduce waste.\\n* FarmWise: A startup that develops autonomous farming equipment, such as tractors and planters, to help farmers increase efficiency and productivity.\\n* Flytrex: An on-demand drone delivery company that allows customers to order products and have them delivered by a drone.\\n* Hoversurf Scorpion-3: A hoverbike company that is developing a commercial-grade hoverbike called the Scorpion-3.\\n* Planet Labs: A company that operates a fleet of small satellites, known as \"doves,\" which provide high-resolution imagery for a variety of applications.\\n* Skydio: A drone manufacturer that specializes in creating intelligent drones with advanced navigation and obstacle avoidance capabilities.\\n* Windfall Geotek: A geoscience software company that uses machine learning algorithms to analyze large datasets and identify potential mineral deposits.\\n\\nThese are just some examples of the startups that Quadratic has built accelerators for. There'"
      ]
     },
     "execution_count": 16,
     "metadata": {},
     "output_type": "execute_result"
    }
   ],
   "source": [
    "llm(\"what accelerators did quadratic build\")\n",
    "# ?\n",
    "#  nobody knows when or if quadratic will launch. the company has not provided any updates on its launch plans, and its website is no longer active.\n",
    "# Quadratic was a startup that aimed to build a decentralized exchange (DEX) for non-fungible tokens (NFTs). The platform was designed to provide a more secure and reliable way of trading NFTs compared to traditional centralized exchanges. However, the project appears to have been abandoned, and no further information is available on its launch plans or development progress.\n",
    "# Quadratic's conceptual design involved using smart contracts to enable decentralized trading of NFTs without the need for intermediaries. The platform was expected to offer a range of features, including support for multiple blockchain networks, an intuitive user interface, and automated liquidity provision through quadratic funding.\n",
    "# While Quadratic's idea was innovative, it faced significant challenges in terms of scalability, security, and regulatory compliance. The decentralized exchange space is highly competitive, with several established players already operating in the market. Moreover, NFTs are still a relatively new concept, and their long-term viability and potential\n",
    "# \"?\\n nobody knows when or if quadratic will launch. the company has not provided any updates on its launch plans, and its website is no longer active.\\nQuadratic was a startup that aimed to build a decentralized exchange (DEX) for non-fungible tokens (NFTs). The platform was designed to provide a more secure and reliable way of trading NFTs compared to traditional centralized exchanges. However, the project appears to have been abandoned, and no further information is available on its launch plans or development progress.\\nQuadratic's conceptual design involved using smart contracts to enable decentralized trading of NFTs without the need for intermediaries. The platform was expected to offer a range of features, including support for multiple blockchain networks, an intuitive user interface, and automated liquidity provision through quadratic funding.\\nWhile Quadratic's idea was innovative, it faced significant challenges in terms of scalability, security, and regulatory compliance. The decentralized exchange space is highly competitive, with several established players already operating in the market. Moreover, NFTs are still a relatively new concept, and their long-term viability and potential\""
   ]
  },
  {
   "cell_type": "code",
   "execution_count": null,
   "metadata": {},
   "outputs": [],
   "source": []
  }
 ],
 "metadata": {
  "kernelspec": {
   "display_name": "Python 3 (ipykernel)",
   "language": "python",
   "name": "python3"
  },
  "language_info": {
   "codemirror_mode": {
    "name": "ipython",
    "version": 3
   },
   "file_extension": ".py",
   "mimetype": "text/x-python",
   "name": "python",
   "nbconvert_exporter": "python",
   "pygments_lexer": "ipython3",
   "version": "3.11.7"
  }
 },
 "nbformat": 4,
 "nbformat_minor": 4
}
